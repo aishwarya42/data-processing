{
 "cells": [
  {
   "cell_type": "code",
   "execution_count": 1,
   "metadata": {},
   "outputs": [],
   "source": [
    "import pandas as pd\n",
    "import matplotlib.pyplot as plt\n",
    "plt.style.use('ggplot')\n",
    "%matplotlib inline \n",
    "import seaborn as sns\n",
    "import numpy as np\n",
    "import matplotlib.mlab as mlab\n",
    "from matplotlib.pyplot import figure\n",
    "import datetime as dt"
   ]
  },
  {
   "cell_type": "code",
   "execution_count": 2,
   "metadata": {},
   "outputs": [],
   "source": [
    "plt.rcParams['figure.figsize'] = (12,8)"
   ]
  },
  {
   "cell_type": "code",
   "execution_count": 3,
   "metadata": {},
   "outputs": [],
   "source": [
    "df = pd.read_csv('data_covid19_global_cases_&_deaths.csv')\n",
    "with pd.ExcelWriter('dataset3.xlsx') as writer:\n",
    "    df.to_excel(writer,sheet_name='sheet 1')"
   ]
  },
  {
   "cell_type": "code",
   "execution_count": 4,
   "metadata": {},
   "outputs": [
    {
     "data": {
      "text/html": [
       "<div>\n",
       "<style scoped>\n",
       "    .dataframe tbody tr th:only-of-type {\n",
       "        vertical-align: middle;\n",
       "    }\n",
       "\n",
       "    .dataframe tbody tr th {\n",
       "        vertical-align: top;\n",
       "    }\n",
       "\n",
       "    .dataframe thead th {\n",
       "        text-align: right;\n",
       "    }\n",
       "</style>\n",
       "<table border=\"1\" class=\"dataframe\">\n",
       "  <thead>\n",
       "    <tr style=\"text-align: right;\">\n",
       "      <th></th>\n",
       "      <th>OBJECTID</th>\n",
       "      <th>ISO_2_CODE</th>\n",
       "      <th>ISO_3_CODE</th>\n",
       "      <th>ADM0_NAME</th>\n",
       "      <th>date_epicrv</th>\n",
       "      <th>NewCase</th>\n",
       "      <th>CumCase</th>\n",
       "      <th>NewDeath</th>\n",
       "      <th>CumDeath</th>\n",
       "      <th>Short_Name_ZH</th>\n",
       "      <th>Short_Name_FR</th>\n",
       "      <th>Short_Name_ES</th>\n",
       "      <th>Short_Name_RU</th>\n",
       "      <th>Short_Name_AR</th>\n",
       "    </tr>\n",
       "  </thead>\n",
       "  <tbody>\n",
       "    <tr>\n",
       "      <th>0</th>\n",
       "      <td>1</td>\n",
       "      <td>AF</td>\n",
       "      <td>AFG</td>\n",
       "      <td>Afghanistan</td>\n",
       "      <td>2020-02-24T00:00:00.000Z</td>\n",
       "      <td>1</td>\n",
       "      <td>1</td>\n",
       "      <td>0</td>\n",
       "      <td>0</td>\n",
       "      <td>阿富汗</td>\n",
       "      <td>Afghanistan</td>\n",
       "      <td>Afganistán</td>\n",
       "      <td>Афганистан</td>\n",
       "      <td>أفغانستان</td>\n",
       "    </tr>\n",
       "    <tr>\n",
       "      <th>1</th>\n",
       "      <td>2</td>\n",
       "      <td>AF</td>\n",
       "      <td>AFG</td>\n",
       "      <td>Afghanistan</td>\n",
       "      <td>2020-02-25T00:00:00.000Z</td>\n",
       "      <td>0</td>\n",
       "      <td>1</td>\n",
       "      <td>0</td>\n",
       "      <td>0</td>\n",
       "      <td>阿富汗</td>\n",
       "      <td>Afghanistan</td>\n",
       "      <td>Afganistán</td>\n",
       "      <td>Афганистан</td>\n",
       "      <td>أفغانستان</td>\n",
       "    </tr>\n",
       "    <tr>\n",
       "      <th>2</th>\n",
       "      <td>3</td>\n",
       "      <td>AF</td>\n",
       "      <td>AFG</td>\n",
       "      <td>Afghanistan</td>\n",
       "      <td>2020-02-26T00:00:00.000Z</td>\n",
       "      <td>0</td>\n",
       "      <td>1</td>\n",
       "      <td>0</td>\n",
       "      <td>0</td>\n",
       "      <td>阿富汗</td>\n",
       "      <td>Afghanistan</td>\n",
       "      <td>Afganistán</td>\n",
       "      <td>Афганистан</td>\n",
       "      <td>أفغانستان</td>\n",
       "    </tr>\n",
       "    <tr>\n",
       "      <th>3</th>\n",
       "      <td>4</td>\n",
       "      <td>AF</td>\n",
       "      <td>AFG</td>\n",
       "      <td>Afghanistan</td>\n",
       "      <td>2020-02-27T00:00:00.000Z</td>\n",
       "      <td>0</td>\n",
       "      <td>1</td>\n",
       "      <td>0</td>\n",
       "      <td>0</td>\n",
       "      <td>阿富汗</td>\n",
       "      <td>Afghanistan</td>\n",
       "      <td>Afganistán</td>\n",
       "      <td>Афганистан</td>\n",
       "      <td>أفغانستان</td>\n",
       "    </tr>\n",
       "    <tr>\n",
       "      <th>4</th>\n",
       "      <td>5</td>\n",
       "      <td>AF</td>\n",
       "      <td>AFG</td>\n",
       "      <td>Afghanistan</td>\n",
       "      <td>2020-02-28T00:00:00.000Z</td>\n",
       "      <td>0</td>\n",
       "      <td>1</td>\n",
       "      <td>0</td>\n",
       "      <td>0</td>\n",
       "      <td>阿富汗</td>\n",
       "      <td>Afghanistan</td>\n",
       "      <td>Afganistán</td>\n",
       "      <td>Афганистан</td>\n",
       "      <td>أفغانستان</td>\n",
       "    </tr>\n",
       "  </tbody>\n",
       "</table>\n",
       "</div>"
      ],
      "text/plain": [
       "   OBJECTID ISO_2_CODE ISO_3_CODE    ADM0_NAME               date_epicrv  \\\n",
       "0         1         AF        AFG  Afghanistan  2020-02-24T00:00:00.000Z   \n",
       "1         2         AF        AFG  Afghanistan  2020-02-25T00:00:00.000Z   \n",
       "2         3         AF        AFG  Afghanistan  2020-02-26T00:00:00.000Z   \n",
       "3         4         AF        AFG  Afghanistan  2020-02-27T00:00:00.000Z   \n",
       "4         5         AF        AFG  Afghanistan  2020-02-28T00:00:00.000Z   \n",
       "\n",
       "   NewCase  CumCase  NewDeath  CumDeath Short_Name_ZH Short_Name_FR  \\\n",
       "0        1        1         0         0           阿富汗   Afghanistan   \n",
       "1        0        1         0         0           阿富汗   Afghanistan   \n",
       "2        0        1         0         0           阿富汗   Afghanistan   \n",
       "3        0        1         0         0           阿富汗   Afghanistan   \n",
       "4        0        1         0         0           阿富汗   Afghanistan   \n",
       "\n",
       "  Short_Name_ES Short_Name_RU Short_Name_AR  \n",
       "0    Afganistán    Афганистан     أفغانستان  \n",
       "1    Afganistán    Афганистан     أفغانستان  \n",
       "2    Afganistán    Афганистан     أفغانستان  \n",
       "3    Afganistán    Афганистан     أفغانستان  \n",
       "4    Afganistán    Афганистан     أفغانستان  "
      ]
     },
     "execution_count": 4,
     "metadata": {},
     "output_type": "execute_result"
    }
   ],
   "source": [
    "df.head()"
   ]
  },
  {
   "cell_type": "code",
   "execution_count": 5,
   "metadata": {},
   "outputs": [
    {
     "data": {
      "text/plain": [
       "(19350, 14)"
      ]
     },
     "execution_count": 5,
     "metadata": {},
     "output_type": "execute_result"
    }
   ],
   "source": [
    "df.shape"
   ]
  },
  {
   "cell_type": "code",
   "execution_count": 6,
   "metadata": {},
   "outputs": [
    {
     "data": {
      "text/plain": [
       "OBJECTID          int64\n",
       "ISO_2_CODE       object\n",
       "ISO_3_CODE       object\n",
       "ADM0_NAME        object\n",
       "date_epicrv      object\n",
       "NewCase           int64\n",
       "CumCase           int64\n",
       "NewDeath          int64\n",
       "CumDeath          int64\n",
       "Short_Name_ZH    object\n",
       "Short_Name_FR    object\n",
       "Short_Name_ES    object\n",
       "Short_Name_RU    object\n",
       "Short_Name_AR    object\n",
       "dtype: object"
      ]
     },
     "execution_count": 6,
     "metadata": {},
     "output_type": "execute_result"
    }
   ],
   "source": [
    "df.dtypes"
   ]
  },
  {
   "cell_type": "code",
   "execution_count": null,
   "metadata": {},
   "outputs": [],
   "source": []
  },
  {
   "cell_type": "code",
   "execution_count": 7,
   "metadata": {},
   "outputs": [
    {
     "data": {
      "text/plain": [
       "array(['OBJECTID', 'NewCase', 'CumCase', 'NewDeath', 'CumDeath'],\n",
       "      dtype=object)"
      ]
     },
     "execution_count": 7,
     "metadata": {},
     "output_type": "execute_result"
    }
   ],
   "source": [
    "df_numeric = df.select_dtypes(include=[np.number])\n",
    "numeric_cols = df_numeric.columns.values\n",
    "numeric_cols"
   ]
  },
  {
   "cell_type": "code",
   "execution_count": 8,
   "metadata": {},
   "outputs": [
    {
     "data": {
      "text/plain": [
       "array(['ISO_2_CODE', 'ISO_3_CODE', 'ADM0_NAME', 'date_epicrv',\n",
       "       'Short_Name_ZH', 'Short_Name_FR', 'Short_Name_ES', 'Short_Name_RU',\n",
       "       'Short_Name_AR'], dtype=object)"
      ]
     },
     "execution_count": 8,
     "metadata": {},
     "output_type": "execute_result"
    }
   ],
   "source": [
    "df_nonnumeric = df.select_dtypes(exclude=[np.number])\n",
    "nonnumeric_cols = df_nonnumeric.columns.values\n",
    "nonnumeric_cols"
   ]
  },
  {
   "cell_type": "code",
   "execution_count": 9,
   "metadata": {},
   "outputs": [
    {
     "data": {
      "text/plain": [
       "<matplotlib.axes._subplots.AxesSubplot at 0x210441b5dc8>"
      ]
     },
     "execution_count": 9,
     "metadata": {},
     "output_type": "execute_result"
    },
    {
     "data": {
      "image/png": "[encoded data removed]",
      "text/plain": [
       "<Figure size 864x576 with 2 Axes>"
      ]
     },
     "metadata": {
      "needs_background": "light"
     },
     "output_type": "display_data"
    }
   ],
   "source": [
    "colors = ['black','yellow']\n",
    "cols = df.columns[:14]\n",
    "sns.heatmap(df[cols].isnull(),cmap=sns.color_palette(colors))"
   ]
  },
  {
   "cell_type": "code",
   "execution_count": 10,
   "metadata": {},
   "outputs": [
    {
     "name": "stdout",
     "output_type": "stream",
     "text": [
      "OBJECTID - 0.0%\n",
      "ISO_2_CODE - 1.0%\n",
      "ISO_3_CODE - 1.0%\n",
      "ADM0_NAME - 0.0%\n",
      "date_epicrv - 0.0%\n",
      "NewCase - 0.0%\n",
      "CumCase - 0.0%\n",
      "NewDeath - 0.0%\n",
      "CumDeath - 0.0%\n",
      "Short_Name_ZH - 1.0%\n",
      "Short_Name_FR - 15.0%\n",
      "Short_Name_ES - 15.0%\n",
      "Short_Name_RU - 15.0%\n",
      "Short_Name_AR - 15.0%\n"
     ]
    }
   ],
   "source": [
    "for col in df.columns:\n",
    "    pct_missing = np.mean(df[col].isnull())\n",
    "    print('{} - {}%'.format(col,round(pct_missing*100)))"
   ]
  },
  {
   "cell_type": "code",
   "execution_count": 11,
   "metadata": {},
   "outputs": [
    {
     "name": "stdout",
     "output_type": "stream",
     "text": [
      "created missing indicator for ISO_2_CODE\n",
      "created missing indicator for ISO_3_CODE\n",
      "created missing indicator for Short_Name_ZH\n",
      "created missing indicator for Short_Name_FR\n",
      "created missing indicator for Short_Name_ES\n",
      "created missing indicator for Short_Name_RU\n",
      "created missing indicator for Short_Name_AR\n"
     ]
    }
   ],
   "source": [
    "for col in df.columns:\n",
    "    missing = df[col].isnull()\n",
    "    num_missing = np.sum(missing)\n",
    "    \n",
    "    if num_missing > 0:\n",
    "        print('created missing indicator for {}'.format(col))\n",
    "        df['{}_ismissing'.format(col)] = missing\n",
    "        "
   ]
  },
  {
   "cell_type": "code",
   "execution_count": 12,
   "metadata": {},
   "outputs": [
    {
     "data": {
      "text/plain": [
       "<matplotlib.axes._subplots.AxesSubplot at 0x210466a3a88>"
      ]
     },
     "execution_count": 12,
     "metadata": {},
     "output_type": "execute_result"
    },
    {
     "data": {
      "image/png": "[encoded data removed]",
      "text/plain": [
       "<Figure size 864x576 with 1 Axes>"
      ]
     },
     "metadata": {
      "needs_background": "light"
     },
     "output_type": "display_data"
    }
   ],
   "source": [
    "ismissing_cols = [col for col in df.columns if 'ismissing' in col]\n",
    "df['num_missing'] = df[ismissing_cols].sum(axis=1)\n",
    "df['num_missing'].value_counts().reset_index().sort_values(by='index').plot.bar(x='index', y='num_missing')\n"
   ]
  },
  {
   "cell_type": "code",
   "execution_count": 13,
   "metadata": {},
   "outputs": [],
   "source": [
    "to_drop=['Short_Name_ZH','Short_Name_FR','Short_Name_ES','Short_Name_RU','Short_Name_AR']\n",
    "df.drop(to_drop,axis=1,inplace = True)"
   ]
  },
  {
   "cell_type": "code",
   "execution_count": 14,
   "metadata": {},
   "outputs": [
    {
     "name": "stdout",
     "output_type": "stream",
     "text": [
      "(19350, 17)\n",
      "(19350, 17)\n"
     ]
    }
   ],
   "source": [
    "df1 = df.drop('OBJECTID', axis=1).drop_duplicates()\n",
    "\n",
    "# there were duplicate rows\n",
    "print(df.shape)\n",
    "print(df.shape)"
   ]
  },
  {
   "cell_type": "code",
   "execution_count": 15,
   "metadata": {},
   "outputs": [
    {
     "name": "stdout",
     "output_type": "stream",
     "text": [
      "2020    19350\n",
      "Name: year, dtype: int64\n",
      "\n",
      "5    6683\n",
      "4    6355\n",
      "3    4601\n",
      "2     895\n",
      "6     648\n",
      "1     168\n",
      "Name: month, dtype: int64\n"
     ]
    }
   ],
   "source": [
    "df['date_epicrv_dt'] = pd.to_datetime(df['date_epicrv'], format='%Y-%m-%d')\n",
    "df['year'] = df['date_epicrv_dt'].dt.year\n",
    "df['month'] = df['date_epicrv_dt'].dt.month\n",
    "df['weekday'] = df['date_epicrv_dt'].dt.weekday\n",
    "\n",
    "print(df['year'].value_counts(dropna=False))\n",
    "print()\n",
    "print(df['month'].value_counts(dropna=False))"
   ]
  },
  {
   "cell_type": "code",
   "execution_count": 16,
   "metadata": {},
   "outputs": [
    {
     "data": {
      "text/plain": [
       "Index(['OBJECTID', 'ISO_2_CODE', 'ISO_3_CODE', 'ADM0_NAME', 'date_epicrv',\n",
       "       'NewCase', 'CumCase', 'NewDeath', 'CumDeath', 'ISO_2_CODE_ismissing',\n",
       "       'ISO_3_CODE_ismissing', 'Short_Name_ZH_ismissing',\n",
       "       'Short_Name_FR_ismissing', 'Short_Name_ES_ismissing',\n",
       "       'Short_Name_RU_ismissing', 'Short_Name_AR_ismissing', 'num_missing',\n",
       "       'date_epicrv_dt', 'year', 'month', 'weekday'],\n",
       "      dtype='object')"
      ]
     },
     "execution_count": 16,
     "metadata": {},
     "output_type": "execute_result"
    }
   ],
   "source": [
    "df.columns"
   ]
  },
  {
   "cell_type": "code",
   "execution_count": 17,
   "metadata": {},
   "outputs": [],
   "source": [
    "to_drop=['ISO_2_CODE_ismissing',\n",
    "       'ISO_3_CODE_ismissing', 'Short_Name_ZH_ismissing',\n",
    "       'Short_Name_FR_ismissing', 'Short_Name_ES_ismissing',\n",
    "       'Short_Name_RU_ismissing', 'Short_Name_AR_ismissing', 'num_missing']\n",
    "df.drop(to_drop,axis=1,inplace=True)"
   ]
  },
  {
   "cell_type": "code",
   "execution_count": 18,
   "metadata": {},
   "outputs": [
    {
     "data": {
      "text/html": [
       "<div>\n",
       "<style scoped>\n",
       "    .dataframe tbody tr th:only-of-type {\n",
       "        vertical-align: middle;\n",
       "    }\n",
       "\n",
       "    .dataframe tbody tr th {\n",
       "        vertical-align: top;\n",
       "    }\n",
       "\n",
       "    .dataframe thead th {\n",
       "        text-align: right;\n",
       "    }\n",
       "</style>\n",
       "<table border=\"1\" class=\"dataframe\">\n",
       "  <thead>\n",
       "    <tr style=\"text-align: right;\">\n",
       "      <th></th>\n",
       "      <th>OBJECTID</th>\n",
       "      <th>ISO_2_CODE</th>\n",
       "      <th>ISO_3_CODE</th>\n",
       "      <th>ADM0_NAME</th>\n",
       "      <th>date_epicrv</th>\n",
       "      <th>NewCase</th>\n",
       "      <th>CumCase</th>\n",
       "      <th>NewDeath</th>\n",
       "      <th>CumDeath</th>\n",
       "      <th>date_epicrv_dt</th>\n",
       "      <th>year</th>\n",
       "      <th>month</th>\n",
       "      <th>weekday</th>\n",
       "    </tr>\n",
       "  </thead>\n",
       "  <tbody>\n",
       "    <tr>\n",
       "      <th>0</th>\n",
       "      <td>1</td>\n",
       "      <td>AF</td>\n",
       "      <td>AFG</td>\n",
       "      <td>Afghanistan</td>\n",
       "      <td>2020-02-24T00:00:00.000Z</td>\n",
       "      <td>1</td>\n",
       "      <td>1</td>\n",
       "      <td>0</td>\n",
       "      <td>0</td>\n",
       "      <td>2020-02-24 00:00:00+00:00</td>\n",
       "      <td>2020</td>\n",
       "      <td>2</td>\n",
       "      <td>0</td>\n",
       "    </tr>\n",
       "    <tr>\n",
       "      <th>1</th>\n",
       "      <td>2</td>\n",
       "      <td>AF</td>\n",
       "      <td>AFG</td>\n",
       "      <td>Afghanistan</td>\n",
       "      <td>2020-02-25T00:00:00.000Z</td>\n",
       "      <td>0</td>\n",
       "      <td>1</td>\n",
       "      <td>0</td>\n",
       "      <td>0</td>\n",
       "      <td>2020-02-25 00:00:00+00:00</td>\n",
       "      <td>2020</td>\n",
       "      <td>2</td>\n",
       "      <td>1</td>\n",
       "    </tr>\n",
       "    <tr>\n",
       "      <th>2</th>\n",
       "      <td>3</td>\n",
       "      <td>AF</td>\n",
       "      <td>AFG</td>\n",
       "      <td>Afghanistan</td>\n",
       "      <td>2020-02-26T00:00:00.000Z</td>\n",
       "      <td>0</td>\n",
       "      <td>1</td>\n",
       "      <td>0</td>\n",
       "      <td>0</td>\n",
       "      <td>2020-02-26 00:00:00+00:00</td>\n",
       "      <td>2020</td>\n",
       "      <td>2</td>\n",
       "      <td>2</td>\n",
       "    </tr>\n",
       "    <tr>\n",
       "      <th>3</th>\n",
       "      <td>4</td>\n",
       "      <td>AF</td>\n",
       "      <td>AFG</td>\n",
       "      <td>Afghanistan</td>\n",
       "      <td>2020-02-27T00:00:00.000Z</td>\n",
       "      <td>0</td>\n",
       "      <td>1</td>\n",
       "      <td>0</td>\n",
       "      <td>0</td>\n",
       "      <td>2020-02-27 00:00:00+00:00</td>\n",
       "      <td>2020</td>\n",
       "      <td>2</td>\n",
       "      <td>3</td>\n",
       "    </tr>\n",
       "    <tr>\n",
       "      <th>4</th>\n",
       "      <td>5</td>\n",
       "      <td>AF</td>\n",
       "      <td>AFG</td>\n",
       "      <td>Afghanistan</td>\n",
       "      <td>2020-02-28T00:00:00.000Z</td>\n",
       "      <td>0</td>\n",
       "      <td>1</td>\n",
       "      <td>0</td>\n",
       "      <td>0</td>\n",
       "      <td>2020-02-28 00:00:00+00:00</td>\n",
       "      <td>2020</td>\n",
       "      <td>2</td>\n",
       "      <td>4</td>\n",
       "    </tr>\n",
       "  </tbody>\n",
       "</table>\n",
       "</div>"
      ],
      "text/plain": [
       "   OBJECTID ISO_2_CODE ISO_3_CODE    ADM0_NAME               date_epicrv  \\\n",
       "0         1         AF        AFG  Afghanistan  2020-02-24T00:00:00.000Z   \n",
       "1         2         AF        AFG  Afghanistan  2020-02-25T00:00:00.000Z   \n",
       "2         3         AF        AFG  Afghanistan  2020-02-26T00:00:00.000Z   \n",
       "3         4         AF        AFG  Afghanistan  2020-02-27T00:00:00.000Z   \n",
       "4         5         AF        AFG  Afghanistan  2020-02-28T00:00:00.000Z   \n",
       "\n",
       "   NewCase  CumCase  NewDeath  CumDeath            date_epicrv_dt  year  \\\n",
       "0        1        1         0         0 2020-02-24 00:00:00+00:00  2020   \n",
       "1        0        1         0         0 2020-02-25 00:00:00+00:00  2020   \n",
       "2        0        1         0         0 2020-02-26 00:00:00+00:00  2020   \n",
       "3        0        1         0         0 2020-02-27 00:00:00+00:00  2020   \n",
       "4        0        1         0         0 2020-02-28 00:00:00+00:00  2020   \n",
       "\n",
       "   month  weekday  \n",
       "0      2        0  \n",
       "1      2        1  \n",
       "2      2        2  \n",
       "3      2        3  \n",
       "4      2        4  "
      ]
     },
     "execution_count": 18,
     "metadata": {},
     "output_type": "execute_result"
    }
   ],
   "source": [
    "df.head()"
   ]
  },
  {
   "cell_type": "code",
   "execution_count": 19,
   "metadata": {},
   "outputs": [
    {
     "data": {
      "text/plain": [
       "<matplotlib.axes._subplots.AxesSubplot at 0x21046461308>"
      ]
     },
     "execution_count": 19,
     "metadata": {},
     "output_type": "execute_result"
    },
    {
     "data": {
      "image/png": "[encoded data removed]",
      "text/plain": [
       "<Figure size 864x576 with 2 Axes>"
      ]
     },
     "metadata": {
      "needs_background": "light"
     },
     "output_type": "display_data"
    }
   ],
   "source": [
    "colors = ['black','yellow']\n",
    "cols = df.columns[:]\n",
    "sns.heatmap(df[cols].isnull(),cmap=sns.color_palette(colors))"
   ]
  },
  {
   "cell_type": "code",
   "execution_count": 20,
   "metadata": {},
   "outputs": [],
   "source": [
    "\n",
    "df.dropna(inplace=True)"
   ]
  },
  {
   "cell_type": "code",
   "execution_count": null,
   "metadata": {},
   "outputs": [],
   "source": []
  },
  {
   "cell_type": "code",
   "execution_count": 21,
   "metadata": {},
   "outputs": [
    {
     "data": {
      "text/plain": [
       "(19148, 13)"
      ]
     },
     "execution_count": 21,
     "metadata": {},
     "output_type": "execute_result"
    }
   ],
   "source": [
    "df.shape"
   ]
  },
  {
   "cell_type": "code",
   "execution_count": 22,
   "metadata": {},
   "outputs": [
    {
     "data": {
      "text/plain": [
       "OBJECTID          0\n",
       "ISO_2_CODE        0\n",
       "ISO_3_CODE        0\n",
       "ADM0_NAME         0\n",
       "date_epicrv       0\n",
       "NewCase           0\n",
       "CumCase           0\n",
       "NewDeath          0\n",
       "CumDeath          0\n",
       "date_epicrv_dt    0\n",
       "year              0\n",
       "month             0\n",
       "weekday           0\n",
       "dtype: int64"
      ]
     },
     "execution_count": 22,
     "metadata": {},
     "output_type": "execute_result"
    }
   ],
   "source": [
    "df.isnull().sum()"
   ]
  },
  {
   "cell_type": "code",
   "execution_count": 26,
   "metadata": {},
   "outputs": [],
   "source": []
  },
  {
   "cell_type": "code",
   "execution_count": null,
   "metadata": {},
   "outputs": [],
   "source": []
  },
  {
   "cell_type": "code",
   "execution_count": null,
   "metadata": {},
   "outputs": [],
   "source": []
  }
 ],
 "metadata": {
  "kernelspec": {
   "display_name": "Python 3",
   "language": "python",
   "name": "python3"
  },
  "language_info": {
   "codemirror_mode": {
    "name": "ipython",
    "version": 3
   },
   "file_extension": ".py",
   "mimetype": "text/x-python",
   "name": "python",
   "nbconvert_exporter": "python",
   "pygments_lexer": "ipython3",
   "version": "3.7.5"
  }
 },
 "nbformat": 4,
 "nbformat_minor": 2
}
